{
  "nbformat": 4,
  "nbformat_minor": 0,
  "metadata": {
    "colab": {
      "provenance": [],
      "authorship_tag": "ABX9TyOmLDSUU4ndSEzlRbK5G0fB",
      "include_colab_link": true
    },
    "kernelspec": {
      "name": "python3",
      "display_name": "Python 3"
    },
    "language_info": {
      "name": "python"
    }
  },
  "cells": [
    {
      "cell_type": "markdown",
      "metadata": {
        "id": "view-in-github",
        "colab_type": "text"
      },
      "source": [
        "<a href=\"https://colab.research.google.com/github/mgxbreu/NLP_sentiment_analysis/blob/main/NLP_1.ipynb\" target=\"_parent\"><img src=\"https://colab.research.google.com/assets/colab-badge.svg\" alt=\"Open In Colab\"/></a>"
      ]
    },
    {
      "cell_type": "code",
      "execution_count": 89,
      "metadata": {
        "id": "_2HPTlHnuoSl",
        "colab": {
          "base_uri": "https://localhost:8080/"
        },
        "outputId": "4b3bb474-4b0a-46a1-8109-61f333a910db"
      },
      "outputs": [
        {
          "output_type": "stream",
          "name": "stdout",
          "text": [
            "Looking in indexes: https://pypi.org/simple, https://us-python.pkg.dev/colab-wheels/public/simple/\n",
            "Collecting py3langid\n",
            "  Downloading py3langid-0.2.2-py3-none-any.whl (750 kB)\n",
            "\u001b[2K     \u001b[90m━━━━━━━━━━━━━━━━━━━━━━━━━━━━━━━━━━━━━━\u001b[0m \u001b[32m750.6/750.6 KB\u001b[0m \u001b[31m14.7 MB/s\u001b[0m eta \u001b[36m0:00:00\u001b[0m\n",
            "\u001b[?25hRequirement already satisfied: numpy in /usr/local/lib/python3.8/dist-packages (from py3langid) (1.21.6)\n",
            "Installing collected packages: py3langid\n",
            "Successfully installed py3langid-0.2.2\n"
          ]
        }
      ],
      "source": [
        "!pip install py3langid\n",
        "import pandas as pd\n",
        "import json"
      ]
    },
    {
      "cell_type": "code",
      "source": [
        "df = pd.read_csv(\"scotch_review.csv\")\n",
        "df['review.point'].hist()"
      ],
      "metadata": {
        "id": "PWFlxm2IuwkS",
        "colab": {
          "base_uri": "https://localhost:8080/",
          "height": 283
        },
        "outputId": "ff88d670-7076-4b63-9932-e29cf988e8bd"
      },
      "execution_count": 4,
      "outputs": [
        {
          "output_type": "execute_result",
          "data": {
            "text/plain": [
              "<matplotlib.axes._subplots.AxesSubplot at 0x7f7fd3e4da30>"
            ]
          },
          "metadata": {},
          "execution_count": 4
        },
        {
          "output_type": "display_data",
          "data": {
            "text/plain": [
              "<Figure size 432x288 with 1 Axes>"
            ],
            "image/png": "[encoded data removed]"
          },
          "metadata": {
            "needs_background": "light"
          }
        }
      ]
    },
    {
      "cell_type": "code",
      "source": [
        "#Downsize removing data from the right \n",
        "df = df[df['review.point'] >=70]\n",
        "df['review.point'].hist()"
      ],
      "metadata": {
        "colab": {
          "base_uri": "https://localhost:8080/",
          "height": 283
        },
        "id": "fAmTo4Ikuwph",
        "outputId": "cf7c6ca0-3f2e-44f9-f076-e9c5c3e20fb6"
      },
      "execution_count": 5,
      "outputs": [
        {
          "output_type": "execute_result",
          "data": {
            "text/plain": [
              "<matplotlib.axes._subplots.AxesSubplot at 0x7f7fd3daea90>"
            ]
          },
          "metadata": {},
          "execution_count": 5
        },
        {
          "output_type": "display_data",
          "data": {
            "text/plain": [
              "<Figure size 432x288 with 1 Axes>"
            ],
            "image/png": "[encoded data removed]"
          },
          "metadata": {
            "needs_background": "light"
          }
        }
      ]
    },
    {
      "cell_type": "code",
      "source": [
        "#Check if there's null values\n",
        "df.isnull().sum()"
      ],
      "metadata": {
        "colab": {
          "base_uri": "https://localhost:8080/"
        },
        "id": "niCLFqNcv1th",
        "outputId": "313b9f25-2b2b-4622-cc8f-eee4f6c7b1d6"
      },
      "execution_count": null,
      "outputs": [
        {
          "output_type": "execute_result",
          "data": {
            "text/plain": [
              "Unnamed: 0      0\n",
              "name            0\n",
              "category        0\n",
              "review.point    0\n",
              "price           0\n",
              "currency        0\n",
              "description     0\n",
              "dtype: int64"
            ]
          },
          "metadata": {},
          "execution_count": 22
        }
      ]
    },
    {
      "cell_type": "code",
      "source": [
        "df[\"quality\"] = df[\"review.point\"].map(lambda x : \"good\" if x >= 88 else \"meh\")\n",
        "df[\"quality\"].value_counts().plot.bar()"
      ],
      "metadata": {
        "colab": {
          "base_uri": "https://localhost:8080/",
          "height": 298
        },
        "id": "F8rc47y3wG7g",
        "outputId": "3f674ea1-c0cd-4c96-fc26-bdb278071d19"
      },
      "execution_count": 120,
      "outputs": [
        {
          "output_type": "execute_result",
          "data": {
            "text/plain": [
              "<matplotlib.axes._subplots.AxesSubplot at 0x7f7fbf086670>"
            ]
          },
          "metadata": {},
          "execution_count": 120
        },
        {
          "output_type": "display_data",
          "data": {
            "text/plain": [
              "<Figure size 432x288 with 1 Axes>"
            ],
            "image/png": "[encoded data removed]"
          },
          "metadata": {
            "needs_background": "light"
          }
        }
      ]
    },
    {
      "cell_type": "code",
      "source": [
        "#Choose 1000 samples from meh quality to downsize the data\n",
        "meh = df[df[\"quality\"] == \"meh\"].sample(1000)\n",
        "good =  df[df[\"quality\"] == \"good\"]"
      ],
      "metadata": {
        "id": "U1RE5QyQguPv"
      },
      "execution_count": 121,
      "outputs": []
    },
    {
      "cell_type": "code",
      "source": [
        "df = pd.concat([meh, good])\n",
        "df = df.sample(frac=1).reset_index(drop=True)"
      ],
      "metadata": {
        "id": "dZBUpBailqm0"
      },
      "execution_count": 85,
      "outputs": []
    },
    {
      "cell_type": "code",
      "source": [
        "df[\"quality\"].value_counts().plot.bar()"
      ],
      "metadata": {
        "colab": {
          "base_uri": "https://localhost:8080/",
          "height": 299
        },
        "id": "lQlOMprMlzLK",
        "outputId": "b8fdf175-d05f-44ed-9461-261db0fa45bc"
      },
      "execution_count": 86,
      "outputs": [
        {
          "output_type": "execute_result",
          "data": {
            "text/plain": [
              "<matplotlib.axes._subplots.AxesSubplot at 0x7f7fd38eca30>"
            ]
          },
          "metadata": {},
          "execution_count": 86
        },
        {
          "output_type": "display_data",
          "data": {
            "text/plain": [
              "<Figure size 432x288 with 1 Axes>"
            ],
            "image/png": "[encoded data removed]"
          },
          "metadata": {
            "needs_background": "light"
          }
        }
      ]
    },
    {
      "cell_type": "code",
      "source": [
        "# Extracting language\n",
        "\n",
        "import py3langid as langid\n",
        "\n",
        "df[\"language\"] = df[\"description\"].apply(lambda x : langid.classify(x)[0])\n",
        "df[df[\"language\"] != \"en\"][[\"language\", \"description\"]]\n"
      ],
      "metadata": {
        "colab": {
          "base_uri": "https://localhost:8080/",
          "height": 49
        },
        "id": "iX_OLgR7mrFJ",
        "outputId": "753f9688-c9ec-4bec-c936-e3ae0588bc99"
      },
      "execution_count": 95,
      "outputs": [
        {
          "output_type": "execute_result",
          "data": {
            "text/plain": [
              "Empty DataFrame\n",
              "Columns: [language, description]\n",
              "Index: []"
            ],
            "text/html": [
              "\n",
              "  <div id=\"df-0718b13c-1106-48dd-a073-404008b87c2d\">\n",
              "    <div class=\"colab-df-container\">\n",
              "      <div>\n",
              "<style scoped>\n",
              "    .dataframe tbody tr th:only-of-type {\n",
              "        vertical-align: middle;\n",
              "    }\n",
              "\n",
              "    .dataframe tbody tr th {\n",
              "        vertical-align: top;\n",
              "    }\n",
              "\n",
              "    .dataframe thead th {\n",
              "        text-align: right;\n",
              "    }\n",
              "</style>\n",
              "<table border=\"1\" class=\"dataframe\">\n",
              "  <thead>\n",
              "    <tr style=\"text-align: right;\">\n",
              "      <th></th>\n",
              "      <th>language</th>\n",
              "      <th>description</th>\n",
              "    </tr>\n",
              "  </thead>\n",
              "  <tbody>\n",
              "  </tbody>\n",
              "</table>\n",
              "</div>\n",
              "      <button class=\"colab-df-convert\" onclick=\"convertToInteractive('df-0718b13c-1106-48dd-a073-404008b87c2d')\"\n",
              "              title=\"Convert this dataframe to an interactive table.\"\n",
              "              style=\"display:none;\">\n",
              "        \n",
              "  <svg xmlns=\"http://www.w3.org/2000/svg\" height=\"24px\"viewBox=\"0 0 24 24\"\n",
              "       width=\"24px\">\n",
              "    <path d=\"M0 0h24v24H0V0z\" fill=\"none\"/>\n",
              "    <path d=\"M18.56 5.44l.94 2.06.94-2.06 2.06-.94-2.06-.94-.94-2.06-.94 2.06-2.06.94zm-11 1L8.5 8.5l.94-2.06 2.06-.94-2.06-.94L8.5 2.5l-.94 2.06-2.06.94zm10 10l.94 2.06.94-2.06 2.06-.94-2.06-.94-.94-2.06-.94 2.06-2.06.94z\"/><path d=\"M17.41 7.96l-1.37-1.37c-.4-.4-.92-.59-1.43-.59-.52 0-1.04.2-1.43.59L10.3 9.45l-7.72 7.72c-.78.78-.78 2.05 0 2.83L4 21.41c.39.39.9.59 1.41.59.51 0 1.02-.2 1.41-.59l7.78-7.78 2.81-2.81c.8-.78.8-2.07 0-2.86zM5.41 20L4 18.59l7.72-7.72 1.47 1.35L5.41 20z\"/>\n",
              "  </svg>\n",
              "      </button>\n",
              "      \n",
              "  <style>\n",
              "    .colab-df-container {\n",
              "      display:flex;\n",
              "      flex-wrap:wrap;\n",
              "      gap: 12px;\n",
              "    }\n",
              "\n",
              "    .colab-df-convert {\n",
              "      background-color: #E8F0FE;\n",
              "      border: none;\n",
              "      border-radius: 50%;\n",
              "      cursor: pointer;\n",
              "      display: none;\n",
              "      fill: #1967D2;\n",
              "      height: 32px;\n",
              "      padding: 0 0 0 0;\n",
              "      width: 32px;\n",
              "    }\n",
              "\n",
              "    .colab-df-convert:hover {\n",
              "      background-color: #E2EBFA;\n",
              "      box-shadow: 0px 1px 2px rgba(60, 64, 67, 0.3), 0px 1px 3px 1px rgba(60, 64, 67, 0.15);\n",
              "      fill: #174EA6;\n",
              "    }\n",
              "\n",
              "    [theme=dark] .colab-df-convert {\n",
              "      background-color: #3B4455;\n",
              "      fill: #D2E3FC;\n",
              "    }\n",
              "\n",
              "    [theme=dark] .colab-df-convert:hover {\n",
              "      background-color: #434B5C;\n",
              "      box-shadow: 0px 1px 3px 1px rgba(0, 0, 0, 0.15);\n",
              "      filter: drop-shadow(0px 1px 2px rgba(0, 0, 0, 0.3));\n",
              "      fill: #FFFFFF;\n",
              "    }\n",
              "  </style>\n",
              "\n",
              "      <script>\n",
              "        const buttonEl =\n",
              "          document.querySelector('#df-0718b13c-1106-48dd-a073-404008b87c2d button.colab-df-convert');\n",
              "        buttonEl.style.display =\n",
              "          google.colab.kernel.accessAllowed ? 'block' : 'none';\n",
              "\n",
              "        async function convertToInteractive(key) {\n",
              "          const element = document.querySelector('#df-0718b13c-1106-48dd-a073-404008b87c2d');\n",
              "          const dataTable =\n",
              "            await google.colab.kernel.invokeFunction('convertToInteractive',\n",
              "                                                     [key], {});\n",
              "          if (!dataTable) return;\n",
              "\n",
              "          const docLinkHtml = 'Like what you see? Visit the ' +\n",
              "            '<a target=\"_blank\" href=https://colab.research.google.com/notebooks/data_table.ipynb>data table notebook</a>'\n",
              "            + ' to learn more about interactive tables.';\n",
              "          element.innerHTML = '';\n",
              "          dataTable['output_type'] = 'display_data';\n",
              "          await google.colab.output.renderOutput(dataTable, element);\n",
              "          const docLink = document.createElement('div');\n",
              "          docLink.innerHTML = docLinkHtml;\n",
              "          element.appendChild(docLink);\n",
              "        }\n",
              "      </script>\n",
              "    </div>\n",
              "  </div>\n",
              "  "
            ]
          },
          "metadata": {},
          "execution_count": 95
        }
      ]
    },
    {
      "cell_type": "markdown",
      "source": [
        "# Preprocessing text"
      ],
      "metadata": {
        "id": "WExxd0Ddnj5G"
      }
    },
    {
      "cell_type": "code",
      "source": [
        "#Loading libraries\n",
        "import nltk\n",
        "from nltk import PorterStemmer\n",
        "from nltk.stem.wordnet import WordNetLemmatizer\n",
        "nltk.download([\n",
        "    \"stopwords\",\n",
        "    \"names\",\n",
        "    \"vader_lexicon\",\n",
        "    \"punkt\",\n",
        "    \"wordnet\",\n",
        "    \"omw-1.4\",\n",
        "    \"averaged_perceptron_tagger\"])\n"
      ],
      "metadata": {
        "colab": {
          "base_uri": "https://localhost:8080/"
        },
        "id": "fInz-M68nD9X",
        "outputId": "6669376b-feaa-4007-85e0-5b3dc70d82ad"
      },
      "execution_count": 113,
      "outputs": [
        {
          "output_type": "stream",
          "name": "stderr",
          "text": [
            "[nltk_data] Downloading package stopwords to /root/nltk_data...\n",
            "[nltk_data]   Package stopwords is already up-to-date!\n",
            "[nltk_data] Downloading package names to /root/nltk_data...\n",
            "[nltk_data]   Package names is already up-to-date!\n",
            "[nltk_data] Downloading package vader_lexicon to /root/nltk_data...\n",
            "[nltk_data]   Package vader_lexicon is already up-to-date!\n",
            "[nltk_data] Downloading package punkt to /root/nltk_data...\n",
            "[nltk_data]   Package punkt is already up-to-date!\n",
            "[nltk_data] Downloading package wordnet to /root/nltk_data...\n",
            "[nltk_data]   Package wordnet is already up-to-date!\n",
            "[nltk_data] Downloading package omw-1.4 to /root/nltk_data...\n",
            "[nltk_data]   Package omw-1.4 is already up-to-date!\n",
            "[nltk_data] Downloading package averaged_perceptron_tagger to\n",
            "[nltk_data]     /root/nltk_data...\n",
            "[nltk_data]   Unzipping taggers/averaged_perceptron_tagger.zip.\n"
          ]
        },
        {
          "output_type": "execute_result",
          "data": {
            "text/plain": [
              "True"
            ]
          },
          "metadata": {},
          "execution_count": 113
        }
      ]
    },
    {
      "cell_type": "code",
      "source": [
        "\n",
        "# Getting english stopwords\n",
        "stopwords = nltk.corpus.stopwords.words(\"english\")\n",
        "names = nltk.corpus.names.words()\n",
        "\n",
        "# Base token extraction function\n",
        "\n",
        "def get_tokens(series, reduce):\n",
        "\n",
        "    \"\"\"\n",
        "    reducer is a function the either lemmatizes or stems the token\n",
        "    \"\"\"\n",
        "\n",
        "    vocabulary = []\n",
        "    for comment in series:\n",
        "        #print(comment)\n",
        "        #print(nltk.word_tokenize(comment))\n",
        "        for idx, word in enumerate(nltk.word_tokenize(comment)):\n",
        "            #print(\"\")\n",
        "            #print(idx, word)\n",
        "            if not word.isalpha(): continue\n",
        "            #print(\"PASO LA VALIDACION DE TEXTO\")\n",
        "            if word in stopwords: continue\n",
        "            #print(\"NO ES UN STOPWORD\")\n",
        "            #if idx != 0: word = word.lower()\n",
        "            if word not in names: word = word.lower()\n",
        "            #print(word)\n",
        "            vocabulary.append(reduce(word))\n",
        "            #print(reduce(word))\n",
        "            #print(\"PALABRA AGREGADA LA VOCABULARIO\")\n",
        "            \n",
        "\n",
        "    return vocabulary\n",
        "  \n",
        "#Getting tokens of vocabulary and lemmatizing\n",
        "\n",
        "lemmatizer = WordNetLemmatizer()\n",
        "\n",
        "# Getting word vocabulary\n",
        "vocabulary = get_tokens(df[\"description\"][:10], lemmatizer.lemmatize)\n",
        "# Getting common unigrams\n",
        "\n",
        "fd = nltk.FreqDist(vocabulary)\n",
        "# fd.tabulate(10)\n",
        "\n",
        "# Getting common bigrams\n",
        "\n",
        "finder = nltk.collocations.BigramCollocationFinder.from_words(vocabulary)\n",
        "# finder.ngram_fd.tabulate(10)\n",
        "\n",
        "# Getting common trigrams\n",
        "\n",
        "finder = nltk.collocations.TrigramCollocationFinder.from_words(vocabulary)\n",
        "# finder.ngram_fd.tabulate(10)\n",
        "\n",
        "# Getting common quadgrams\n",
        "\n",
        "finder = nltk.collocations.QuadgramCollocationFinder.from_words(vocabulary)\n",
        "finder.ngram_fd.tabulate(10)"
      ],
      "metadata": {
        "colab": {
          "base_uri": "https://localhost:8080/"
        },
        "id": "o7A7y1CKoAen",
        "outputId": "87e43a41-af03-4b40-ce67-8e88c53589fe"
      },
      "execution_count": 122,
      "outputs": [
        {
          "output_type": "stream",
          "name": "stdout",
          "text": [
            "('imagine', 'sipping', 'sophisticated', 'libation')  ('sipping', 'sophisticated', 'libation', 'supper')     ('sophisticated', 'libation', 'supper', 'club')            ('libation', 'supper', 'club', 'turned')                ('supper', 'club', 'turned', 'best')                   ('club', 'turned', 'best', 'bib')                 ('turned', 'best', 'bib', 'tucker')                  ('best', 'bib', 'tucker', 'there')                ('bib', 'tucker', 'there', 'purity')              ('tucker', 'there', 'purity', 'aroma') \n",
            "                                                  1                                                   1                                                   1                                                   1                                                   1                                                   1                                                   1                                                   1                                                   1                                                   1 \n"
          ]
        }
      ]
    },
    {
      "cell_type": "code",
      "source": [
        "# Defining unwanted features and desired features\n",
        "\n",
        "unwanted = nltk.corpus.stopwords.words(\"english\")\n",
        "unwanted.extend([w.lower() for w in nltk.corpus.names.words()])\n",
        "\n",
        "def skip_unwanted(pos_tuple):\n",
        "    word, tag = pos_tuple\n",
        "    if not word.isalpha() or word in unwanted:\n",
        "        return False\n",
        "    if tag.startswith(\"NN\"):\n",
        "        return False\n",
        "    return True\n",
        "\n",
        "positive_comments = df[df[\"quality\"] == \"good\"][\"description\"]\n",
        "negative_comments = df[df[\"quality\"] == \"meh\"][\"description\"]\n",
        "\n",
        "positive_tokens = get_tokens(positive_comments, lemmatizer.lemmatize)\n",
        "negative_tokens = get_tokens(negative_comments, lemmatizer.lemmatize)\n",
        "\n",
        "positive_words = [word for word, tag in filter(\n",
        "    skip_unwanted,\n",
        "    nltk.pos_tag(positive_tokens)\n",
        ")]\n",
        "negative_words = [word for word, tag in filter(\n",
        "    skip_unwanted,\n",
        "    nltk.pos_tag(negative_tokens)\n",
        ")]"
      ],
      "metadata": {
        "id": "CTcgqbnvphAJ"
      },
      "execution_count": 123,
      "outputs": []
    },
    {
      "cell_type": "code",
      "source": [
        "positive_fd = nltk.FreqDist(positive_words)\n",
        "negative_fd = nltk.FreqDist(negative_words)\n",
        "\n",
        "common_set = set(positive_fd).intersection(negative_fd)\n",
        "\n",
        "for word in common_set:\n",
        "    del positive_fd[word]\n",
        "    del negative_fd[word]\n",
        "\n",
        "top_200_positive = {word for word, count in positive_fd.most_common(100)}\n",
        "top_200_negative = {word for word, count in negative_fd.most_common(100)}"
      ],
      "metadata": {
        "id": "bfAu8Or6qrs_"
      },
      "execution_count": 128,
      "outputs": []
    },
    {
      "cell_type": "code",
      "source": [
        "import pickle\n",
        "\n",
        "f = open('top_200_positive.pickle', 'wb')\n",
        "pickle.dump(top_200_positive, f)\n",
        "f.close()\n",
        "\n",
        "f = open('top_200_negative.pickle', 'wb')\n",
        "pickle.dump(top_200_negative, f)\n",
        "f.close()"
      ],
      "metadata": {
        "id": "vrSIBjr_rYkm"
      },
      "execution_count": 129,
      "outputs": []
    },
    {
      "cell_type": "markdown",
      "source": [
        "# 1. NLTK Pretrained Sentiment Analyzer\n"
      ],
      "metadata": {
        "id": "gQKUIMNYrdiI"
      }
    },
    {
      "cell_type": "code",
      "source": [
        "from nltk.sentiment import SentimentIntensityAnalyzer\n",
        "sia = SentimentIntensityAnalyzer()"
      ],
      "metadata": {
        "id": "SGkGS_KXrgEP"
      },
      "execution_count": 130,
      "outputs": []
    },
    {
      "cell_type": "code",
      "source": [
        "df[\"quality\"].value_counts()"
      ],
      "metadata": {
        "colab": {
          "base_uri": "https://localhost:8080/"
        },
        "id": "1fOFUFN9rraH",
        "outputId": "7facd813-e7a3-439c-a910-e9c30d7c4efb"
      },
      "execution_count": 131,
      "outputs": [
        {
          "output_type": "execute_result",
          "data": {
            "text/plain": [
              "meh     1000\n",
              "good     972\n",
              "Name: quality, dtype: int64"
            ]
          },
          "metadata": {},
          "execution_count": 131
        }
      ]
    },
    {
      "cell_type": "code",
      "source": [
        "df[\"quality_estimate\"] = df[\"description\"].map(lambda x : max(sia.polarity_scores(x), key=sia.polarity_scores(x).get))"
      ],
      "metadata": {
        "id": "EsOAOeUdtQPW"
      },
      "execution_count": 132,
      "outputs": []
    },
    {
      "cell_type": "code",
      "source": [
        "df[[\"description\", \"quality\", \"quality_estimate\"]]"
      ],
      "metadata": {
        "colab": {
          "base_uri": "https://localhost:8080/",
          "height": 423
        },
        "id": "h1ZLXgRRtYCZ",
        "outputId": "37f341e0-e750-4494-b8ef-3f8ed66a0e7b"
      },
      "execution_count": 133,
      "outputs": [
        {
          "output_type": "execute_result",
          "data": {
            "text/plain": [
              "                                            description quality  \\\n",
              "0     Imagine sipping this sophisticated libation at...    good   \n",
              "1     Having replaced the 16 year old Longmorn with ...    good   \n",
              "2     Distilled in 2008 from 100 percent Scottish ba...    good   \n",
              "3     An unusual vintage bottling of Old Pulteney, i...    good   \n",
              "4     Mature on the nose, mixing the tropical fruits...     meh   \n",
              "...                                                 ...     ...   \n",
              "1967  Deep gold color. Surprisingly lively on the no...    good   \n",
              "1968  If you like warm chocolate ganache sprinkled w...     meh   \n",
              "1969  There has been an excellent streak of Islay bl...    good   \n",
              "1970  This is the bigger, spicier, and more complex ...    good   \n",
              "1971  Peatheads, listen up! Yes, there’s pine needle...    good   \n",
              "\n",
              "     quality_estimate  \n",
              "0                 neu  \n",
              "1            compound  \n",
              "2                 neu  \n",
              "3                 neu  \n",
              "4            compound  \n",
              "...               ...  \n",
              "1967         compound  \n",
              "1968         compound  \n",
              "1969         compound  \n",
              "1970              neu  \n",
              "1971         compound  \n",
              "\n",
              "[1972 rows x 3 columns]"
            ],
            "text/html": [
              "\n",
              "  <div id=\"df-fde716ef-ecaf-4714-9dae-152a5bc62319\">\n",
              "    <div class=\"colab-df-container\">\n",
              "      <div>\n",
              "<style scoped>\n",
              "    .dataframe tbody tr th:only-of-type {\n",
              "        vertical-align: middle;\n",
              "    }\n",
              "\n",
              "    .dataframe tbody tr th {\n",
              "        vertical-align: top;\n",
              "    }\n",
              "\n",
              "    .dataframe thead th {\n",
              "        text-align: right;\n",
              "    }\n",
              "</style>\n",
              "<table border=\"1\" class=\"dataframe\">\n",
              "  <thead>\n",
              "    <tr style=\"text-align: right;\">\n",
              "      <th></th>\n",
              "      <th>description</th>\n",
              "      <th>quality</th>\n",
              "      <th>quality_estimate</th>\n",
              "    </tr>\n",
              "  </thead>\n",
              "  <tbody>\n",
              "    <tr>\n",
              "      <th>0</th>\n",
              "      <td>Imagine sipping this sophisticated libation at...</td>\n",
              "      <td>good</td>\n",
              "      <td>neu</td>\n",
              "    </tr>\n",
              "    <tr>\n",
              "      <th>1</th>\n",
              "      <td>Having replaced the 16 year old Longmorn with ...</td>\n",
              "      <td>good</td>\n",
              "      <td>compound</td>\n",
              "    </tr>\n",
              "    <tr>\n",
              "      <th>2</th>\n",
              "      <td>Distilled in 2008 from 100 percent Scottish ba...</td>\n",
              "      <td>good</td>\n",
              "      <td>neu</td>\n",
              "    </tr>\n",
              "    <tr>\n",
              "      <th>3</th>\n",
              "      <td>An unusual vintage bottling of Old Pulteney, i...</td>\n",
              "      <td>good</td>\n",
              "      <td>neu</td>\n",
              "    </tr>\n",
              "    <tr>\n",
              "      <th>4</th>\n",
              "      <td>Mature on the nose, mixing the tropical fruits...</td>\n",
              "      <td>meh</td>\n",
              "      <td>compound</td>\n",
              "    </tr>\n",
              "    <tr>\n",
              "      <th>...</th>\n",
              "      <td>...</td>\n",
              "      <td>...</td>\n",
              "      <td>...</td>\n",
              "    </tr>\n",
              "    <tr>\n",
              "      <th>1967</th>\n",
              "      <td>Deep gold color. Surprisingly lively on the no...</td>\n",
              "      <td>good</td>\n",
              "      <td>compound</td>\n",
              "    </tr>\n",
              "    <tr>\n",
              "      <th>1968</th>\n",
              "      <td>If you like warm chocolate ganache sprinkled w...</td>\n",
              "      <td>meh</td>\n",
              "      <td>compound</td>\n",
              "    </tr>\n",
              "    <tr>\n",
              "      <th>1969</th>\n",
              "      <td>There has been an excellent streak of Islay bl...</td>\n",
              "      <td>good</td>\n",
              "      <td>compound</td>\n",
              "    </tr>\n",
              "    <tr>\n",
              "      <th>1970</th>\n",
              "      <td>This is the bigger, spicier, and more complex ...</td>\n",
              "      <td>good</td>\n",
              "      <td>neu</td>\n",
              "    </tr>\n",
              "    <tr>\n",
              "      <th>1971</th>\n",
              "      <td>Peatheads, listen up! Yes, there’s pine needle...</td>\n",
              "      <td>good</td>\n",
              "      <td>compound</td>\n",
              "    </tr>\n",
              "  </tbody>\n",
              "</table>\n",
              "<p>1972 rows × 3 columns</p>\n",
              "</div>\n",
              "      <button class=\"colab-df-convert\" onclick=\"convertToInteractive('df-fde716ef-ecaf-4714-9dae-152a5bc62319')\"\n",
              "              title=\"Convert this dataframe to an interactive table.\"\n",
              "              style=\"display:none;\">\n",
              "        \n",
              "  <svg xmlns=\"http://www.w3.org/2000/svg\" height=\"24px\"viewBox=\"0 0 24 24\"\n",
              "       width=\"24px\">\n",
              "    <path d=\"M0 0h24v24H0V0z\" fill=\"none\"/>\n",
              "    <path d=\"M18.56 5.44l.94 2.06.94-2.06 2.06-.94-2.06-.94-.94-2.06-.94 2.06-2.06.94zm-11 1L8.5 8.5l.94-2.06 2.06-.94-2.06-.94L8.5 2.5l-.94 2.06-2.06.94zm10 10l.94 2.06.94-2.06 2.06-.94-2.06-.94-.94-2.06-.94 2.06-2.06.94z\"/><path d=\"M17.41 7.96l-1.37-1.37c-.4-.4-.92-.59-1.43-.59-.52 0-1.04.2-1.43.59L10.3 9.45l-7.72 7.72c-.78.78-.78 2.05 0 2.83L4 21.41c.39.39.9.59 1.41.59.51 0 1.02-.2 1.41-.59l7.78-7.78 2.81-2.81c.8-.78.8-2.07 0-2.86zM5.41 20L4 18.59l7.72-7.72 1.47 1.35L5.41 20z\"/>\n",
              "  </svg>\n",
              "      </button>\n",
              "      \n",
              "  <style>\n",
              "    .colab-df-container {\n",
              "      display:flex;\n",
              "      flex-wrap:wrap;\n",
              "      gap: 12px;\n",
              "    }\n",
              "\n",
              "    .colab-df-convert {\n",
              "      background-color: #E8F0FE;\n",
              "      border: none;\n",
              "      border-radius: 50%;\n",
              "      cursor: pointer;\n",
              "      display: none;\n",
              "      fill: #1967D2;\n",
              "      height: 32px;\n",
              "      padding: 0 0 0 0;\n",
              "      width: 32px;\n",
              "    }\n",
              "\n",
              "    .colab-df-convert:hover {\n",
              "      background-color: #E2EBFA;\n",
              "      box-shadow: 0px 1px 2px rgba(60, 64, 67, 0.3), 0px 1px 3px 1px rgba(60, 64, 67, 0.15);\n",
              "      fill: #174EA6;\n",
              "    }\n",
              "\n",
              "    [theme=dark] .colab-df-convert {\n",
              "      background-color: #3B4455;\n",
              "      fill: #D2E3FC;\n",
              "    }\n",
              "\n",
              "    [theme=dark] .colab-df-convert:hover {\n",
              "      background-color: #434B5C;\n",
              "      box-shadow: 0px 1px 3px 1px rgba(0, 0, 0, 0.15);\n",
              "      filter: drop-shadow(0px 1px 2px rgba(0, 0, 0, 0.3));\n",
              "      fill: #FFFFFF;\n",
              "    }\n",
              "  </style>\n",
              "\n",
              "      <script>\n",
              "        const buttonEl =\n",
              "          document.querySelector('#df-fde716ef-ecaf-4714-9dae-152a5bc62319 button.colab-df-convert');\n",
              "        buttonEl.style.display =\n",
              "          google.colab.kernel.accessAllowed ? 'block' : 'none';\n",
              "\n",
              "        async function convertToInteractive(key) {\n",
              "          const element = document.querySelector('#df-fde716ef-ecaf-4714-9dae-152a5bc62319');\n",
              "          const dataTable =\n",
              "            await google.colab.kernel.invokeFunction('convertToInteractive',\n",
              "                                                     [key], {});\n",
              "          if (!dataTable) return;\n",
              "\n",
              "          const docLinkHtml = 'Like what you see? Visit the ' +\n",
              "            '<a target=\"_blank\" href=https://colab.research.google.com/notebooks/data_table.ipynb>data table notebook</a>'\n",
              "            + ' to learn more about interactive tables.';\n",
              "          element.innerHTML = '';\n",
              "          dataTable['output_type'] = 'display_data';\n",
              "          await google.colab.output.renderOutput(dataTable, element);\n",
              "          const docLink = document.createElement('div');\n",
              "          docLink.innerHTML = docLinkHtml;\n",
              "          element.appendChild(docLink);\n",
              "        }\n",
              "      </script>\n",
              "    </div>\n",
              "  </div>\n",
              "  "
            ]
          },
          "metadata": {},
          "execution_count": 133
        }
      ]
    },
    {
      "cell_type": "markdown",
      "source": [
        "# 2. NLTK Naive Bayes Classifier\n",
        "\n"
      ],
      "metadata": {
        "id": "6lehwJc0tiZv"
      }
    },
    {
      "cell_type": "code",
      "source": [
        "from statistics import mean\n",
        "\n",
        "def extract_features(text):\n",
        "\n",
        "    vocabulary = []\n",
        "    for idx, word in enumerate(nltk.word_tokenize(text)):\n",
        "        if not word.isalpha(): continue\n",
        "        if word in stopwords: continue\n",
        "        word = word.lower()\n",
        "        word = lemmatizer.lemmatize(word)\n",
        "        if word in top_200_negative or top_200_positive:\n",
        "            vocabulary.append(word)\n",
        "\n",
        "    fd = nltk.FreqDist(vocabulary)\n",
        "\n",
        "    return fd"
      ],
      "metadata": {
        "id": "3VG75tS3thqp"
      },
      "execution_count": 153,
      "outputs": []
    },
    {
      "cell_type": "code",
      "source": [
        "positive_comments = df[df[\"quality\"] == \"good\"][\"description\"].sample(200)\n",
        "negative_comments = df[df[\"quality\"] == \"meh\"][\"description\"].sample(200)\n",
        "\n",
        "features = [\n",
        "    (extract_features(review), \"pos\")\n",
        "    for review in positive_comments\n",
        "]\n",
        "features.extend([\n",
        "    (extract_features(review), \"neg\")\n",
        "    for review in negative_comments\n",
        "])"
      ],
      "metadata": {
        "id": "pqhHh9RvuGu-"
      },
      "execution_count": 136,
      "outputs": []
    },
    {
      "cell_type": "code",
      "source": [
        "from random import shuffle\n",
        "\n",
        "train_count = len(features)//2\n",
        "shuffle(features)\n",
        "classifier = nltk.NaiveBayesClassifier.train(features[:train_count])\n",
        "classifier.show_most_informative_features(10)\n",
        "\n",
        "#Checking accuracy\n",
        "\n",
        "nltk.classify.accuracy(classifier, features[train_count:])"
      ],
      "metadata": {
        "id": "IwTa6qqNuZPs"
      },
      "execution_count": null,
      "outputs": []
    },
    {
      "cell_type": "code",
      "source": [
        "# Testing unseen data\n",
        "\n",
        "review = \"i dont like it\"\n",
        "classifier.classify(extract_features(review))"
      ],
      "metadata": {
        "colab": {
          "base_uri": "https://localhost:8080/",
          "height": 36
        },
        "id": "Ibz0YkfAuhQk",
        "outputId": "9441a882-7d8a-40e5-da5a-e731bbaa418d"
      },
      "execution_count": 142,
      "outputs": [
        {
          "output_type": "execute_result",
          "data": {
            "text/plain": [
              "'neg'"
            ],
            "application/vnd.google.colaboratory.intrinsic+json": {
              "type": "string"
            }
          },
          "metadata": {},
          "execution_count": 142
        }
      ]
    },
    {
      "cell_type": "markdown",
      "source": [
        "# 3. Scikit-Learn Naive Bayes Classifier"
      ],
      "metadata": {
        "id": "7o6GfDnPupfL"
      }
    },
    {
      "cell_type": "code",
      "source": [
        "from sklearn.naive_bayes import (\n",
        "    BernoulliNB,\n",
        "    ComplementNB,\n",
        "    MultinomialNB,\n",
        ")\n",
        "from sklearn.neighbors import KNeighborsClassifier\n",
        "from sklearn.tree import DecisionTreeClassifier\n",
        "from sklearn.ensemble import RandomForestClassifier, AdaBoostClassifier\n",
        "from sklearn.linear_model import LogisticRegression\n",
        "from sklearn.neural_network import MLPClassifier\n",
        "from sklearn.discriminant_analysis import QuadraticDiscriminantAnalysis"
      ],
      "metadata": {
        "id": "jPaTxGU_ur2y"
      },
      "execution_count": 143,
      "outputs": []
    },
    {
      "cell_type": "code",
      "source": [
        "classifiers = {\n",
        "    \"BernoulliNB\": BernoulliNB(),\n",
        "    \"ComplementNB\": ComplementNB(),\n",
        "    \"MultinomialNB\": MultinomialNB(),\n",
        "    \"KNeighborsClassifier\": KNeighborsClassifier(),\n",
        "    \"DecisionTreeClassifier\": DecisionTreeClassifier(),\n",
        "    \"RandomForestClassifier\": RandomForestClassifier(),\n",
        "    \"LogisticRegression\": LogisticRegression(),\n",
        "    \"MLPClassifier\": MLPClassifier(max_iter=1000),\n",
        "    \"AdaBoostClassifier\": AdaBoostClassifier(),\n",
        "}"
      ],
      "metadata": {
        "id": "et6iKtZDuunm"
      },
      "execution_count": 144,
      "outputs": []
    },
    {
      "cell_type": "code",
      "source": [
        "train_count = len(features) // 4\n",
        "shuffle(features)\n",
        "\n",
        "trained_classifiers = {}\n",
        "\n",
        "for name, sklearn_classifier in classifiers.items():\n",
        "     classifier = nltk.classify.SklearnClassifier(sklearn_classifier)\n",
        "     classifier.train(features[:train_count])\n",
        "     accuracy = nltk.classify.accuracy(classifier, features[train_count:])\n",
        "     trained_classifiers[name] = classifier\n",
        "     print(F\"{accuracy:.2%} - {name}\")"
      ],
      "metadata": {
        "colab": {
          "base_uri": "https://localhost:8080/"
        },
        "id": "HezlwTfYuyGX",
        "outputId": "a988161d-fd23-4035-8c02-3e28f16cbcdc"
      },
      "execution_count": 145,
      "outputs": [
        {
          "output_type": "stream",
          "name": "stdout",
          "text": [
            "49.33% - BernoulliNB\n",
            "60.67% - ComplementNB\n",
            "59.67% - MultinomialNB\n",
            "50.00% - KNeighborsClassifier\n",
            "50.33% - DecisionTreeClassifier\n",
            "49.67% - RandomForestClassifier\n",
            "57.00% - LogisticRegression\n",
            "57.67% - MLPClassifier\n",
            "58.00% - AdaBoostClassifier\n"
          ]
        }
      ]
    },
    {
      "cell_type": "markdown",
      "source": [
        "# Final touches"
      ],
      "metadata": {
        "id": "nGt9KR9Yu2gh"
      }
    },
    {
      "cell_type": "code",
      "source": [
        "# Save best model\n",
        "\n",
        "import pickle\n",
        "f = open('sentiment_classifier.pickle', 'wb')\n",
        "pickle.dump(trained_classifiers[\"ComplementNB\"], f)\n",
        "f.close()"
      ],
      "metadata": {
        "id": "-Z4KX6Cbu5KU"
      },
      "execution_count": 148,
      "outputs": []
    },
    {
      "cell_type": "code",
      "source": [
        "# Test some values on the classifier \n",
        "\n",
        "f = open('sentiment_classifier.pickle', 'rb')\n",
        "deployed_classifier = pickle.load(f)\n",
        "f.close()"
      ],
      "metadata": {
        "id": "PanRIAHgu_LY"
      },
      "execution_count": 150,
      "outputs": []
    },
    {
      "cell_type": "code",
      "source": [
        "deployed_classifier.classify(extract_features(\"hate\"))"
      ],
      "metadata": {
        "colab": {
          "base_uri": "https://localhost:8080/",
          "height": 36
        },
        "id": "UHArfS5Nu7YK",
        "outputId": "4494be3d-6c6d-4c63-90fe-1a8dbf2c5371"
      },
      "execution_count": 152,
      "outputs": [
        {
          "output_type": "execute_result",
          "data": {
            "text/plain": [
              "'neg'"
            ],
            "application/vnd.google.colaboratory.intrinsic+json": {
              "type": "string"
            }
          },
          "metadata": {},
          "execution_count": 152
        }
      ]
    }
  ]
}